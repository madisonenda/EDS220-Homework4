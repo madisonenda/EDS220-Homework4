{
 "cells": [
  {
   "cell_type": "markdown",
   "id": "198b9ca8-e0d8-4579-9da3-a8f8271b1bbc",
   "metadata": {},
   "source": [
    "# Homework 4: Task 2 \"Fire Perimeter\" 11/24/2024\n",
    "### Link to repository: https://github.com/madisonenda/EDS220-Homework4 "
   ]
  },
  {
   "cell_type": "markdown",
   "id": "5934ca44-d2c2-4039-b9fa-b5be39100a32",
   "metadata": {},
   "source": [
    "### Section 2 Criteria:\n",
    "\n",
    "2. Fire perimeter data retrieval and selection\n",
    "Explore the data and write a brief summary of the information you obtained from the preliminary information. Your summary should include the CRS of the data and whether this is projected or geographic.\n",
    "\n",
    "3. From your fire perimeter data, select the Thomas Fire boundary. The fire occurred in 2017.\n",
    "\n",
    "4. Save only the 2017 Thomas Fire boundary as a geospatial file in the format of your choosing. The file should go into the data/ directory in your repository.\n",
    "\n",
    "5. In a markdown cell, briefly explain your reasoning for selecting that specific file format.\n",
    "\n"
   ]
  },
  {
   "cell_type": "code",
   "execution_count": 1,
   "id": "cd68c2cd-2ccc-4791-8797-f74cb0e42f8a",
   "metadata": {
    "tags": []
   },
   "outputs": [],
   "source": [
    "# Importing the libraries for this project\n",
    "import pandas as pd\n",
    "import numpy as np\n",
    "import matplotlib.pyplot as plt \n",
    "import os \n",
    "import geopandas as gpd\n",
    "import pyproj"
   ]
  },
  {
   "cell_type": "code",
   "execution_count": 2,
   "id": "20da4e26-39af-4017-a29f-44421e51f758",
   "metadata": {
    "tags": []
   },
   "outputs": [],
   "source": [
    "# Creating a filepath to the data, and reading it in using geopandas\n",
    "fp= os.path.join('data','California_Fire_Perimeters_7897608464518632307.geojson')\n",
    "fire_perimeters= gpd.read_file(fp)"
   ]
  },
  {
   "cell_type": "code",
   "execution_count": 3,
   "id": "dba07344-010f-4e1b-8b8b-6410be323d16",
   "metadata": {
    "tags": []
   },
   "outputs": [
    {
     "data": {
      "text/plain": [
       "(22261, 20)"
      ]
     },
     "execution_count": 3,
     "metadata": {},
     "output_type": "execute_result"
    }
   ],
   "source": [
    "# Taking a look at the number of rows and columns in the GeoPandas Data Frame\n",
    "fire_perimeters.shape"
   ]
  },
  {
   "cell_type": "code",
   "execution_count": 4,
   "id": "aadf8921-b0cc-449b-af22-bd3cd43f57e7",
   "metadata": {
    "tags": []
   },
   "outputs": [
    {
     "data": {
      "text/html": [
       "<div>\n",
       "<style scoped>\n",
       "    .dataframe tbody tr th:only-of-type {\n",
       "        vertical-align: middle;\n",
       "    }\n",
       "\n",
       "    .dataframe tbody tr th {\n",
       "        vertical-align: top;\n",
       "    }\n",
       "\n",
       "    .dataframe thead th {\n",
       "        text-align: right;\n",
       "    }\n",
       "</style>\n",
       "<table border=\"1\" class=\"dataframe\">\n",
       "  <thead>\n",
       "    <tr style=\"text-align: right;\">\n",
       "      <th></th>\n",
       "      <th>OBJECTID</th>\n",
       "      <th>YEAR_</th>\n",
       "      <th>STATE</th>\n",
       "      <th>AGENCY</th>\n",
       "      <th>UNIT_ID</th>\n",
       "      <th>FIRE_NAME</th>\n",
       "      <th>INC_NUM</th>\n",
       "      <th>ALARM_DATE</th>\n",
       "      <th>CONT_DATE</th>\n",
       "      <th>CAUSE</th>\n",
       "      <th>C_METHOD</th>\n",
       "      <th>OBJECTIVE</th>\n",
       "      <th>GIS_ACRES</th>\n",
       "      <th>COMMENTS</th>\n",
       "      <th>COMPLEX_NAME</th>\n",
       "      <th>IRWINID</th>\n",
       "      <th>FIRE_NUM</th>\n",
       "      <th>COMPLEX_ID</th>\n",
       "      <th>DECADES</th>\n",
       "      <th>geometry</th>\n",
       "    </tr>\n",
       "  </thead>\n",
       "  <tbody>\n",
       "    <tr>\n",
       "      <th>0</th>\n",
       "      <td>1</td>\n",
       "      <td>2023.0</td>\n",
       "      <td>CA</td>\n",
       "      <td>CDF</td>\n",
       "      <td>SKU</td>\n",
       "      <td>WHITWORTH</td>\n",
       "      <td>00004808</td>\n",
       "      <td>Sat, 17 Jun 2023 00:00:00 GMT</td>\n",
       "      <td>Sat, 17 Jun 2023 00:00:00 GMT</td>\n",
       "      <td>5.0</td>\n",
       "      <td>1.0</td>\n",
       "      <td>1.0</td>\n",
       "      <td>5.729125</td>\n",
       "      <td>NaN</td>\n",
       "      <td>NaN</td>\n",
       "      <td>{7985848C-0AC2-4BA4-8F0E-29F778652E61}</td>\n",
       "      <td>NaN</td>\n",
       "      <td>NaN</td>\n",
       "      <td>2020.0</td>\n",
       "      <td>POLYGON ((-13682443.000 5091132.739, -13682445...</td>\n",
       "    </tr>\n",
       "    <tr>\n",
       "      <th>1</th>\n",
       "      <td>2</td>\n",
       "      <td>2023.0</td>\n",
       "      <td>CA</td>\n",
       "      <td>LRA</td>\n",
       "      <td>BTU</td>\n",
       "      <td>KAISER</td>\n",
       "      <td>00010225</td>\n",
       "      <td>Fri, 02 Jun 2023 00:00:00 GMT</td>\n",
       "      <td>Fri, 02 Jun 2023 00:00:00 GMT</td>\n",
       "      <td>5.0</td>\n",
       "      <td>1.0</td>\n",
       "      <td>1.0</td>\n",
       "      <td>13.602380</td>\n",
       "      <td>NaN</td>\n",
       "      <td>NaN</td>\n",
       "      <td>{43EBCC88-B3AC-48EB-8EF5-417FE0939CCF}</td>\n",
       "      <td>NaN</td>\n",
       "      <td>NaN</td>\n",
       "      <td>2020.0</td>\n",
       "      <td>POLYGON ((-13576727.142 4841226.161, -13576726...</td>\n",
       "    </tr>\n",
       "    <tr>\n",
       "      <th>2</th>\n",
       "      <td>3</td>\n",
       "      <td>2023.0</td>\n",
       "      <td>CA</td>\n",
       "      <td>CDF</td>\n",
       "      <td>AEU</td>\n",
       "      <td>JACKSON</td>\n",
       "      <td>00017640</td>\n",
       "      <td>Sat, 01 Jul 2023 00:00:00 GMT</td>\n",
       "      <td>Sun, 02 Jul 2023 00:00:00 GMT</td>\n",
       "      <td>2.0</td>\n",
       "      <td>1.0</td>\n",
       "      <td>1.0</td>\n",
       "      <td>27.814460</td>\n",
       "      <td>NaN</td>\n",
       "      <td>NaN</td>\n",
       "      <td>{B64E1355-BF1D-441A-95D0-BC1FBB93483B}</td>\n",
       "      <td>NaN</td>\n",
       "      <td>NaN</td>\n",
       "      <td>2020.0</td>\n",
       "      <td>POLYGON ((-13459243.000 4621236.000, -13458968...</td>\n",
       "    </tr>\n",
       "    <tr>\n",
       "      <th>3</th>\n",
       "      <td>4</td>\n",
       "      <td>2023.0</td>\n",
       "      <td>CA</td>\n",
       "      <td>CDF</td>\n",
       "      <td>AEU</td>\n",
       "      <td>CARBON</td>\n",
       "      <td>00018821</td>\n",
       "      <td>Tue, 11 Jul 2023 00:00:00 GMT</td>\n",
       "      <td>Tue, 11 Jul 2023 00:00:00 GMT</td>\n",
       "      <td>9.0</td>\n",
       "      <td>1.0</td>\n",
       "      <td>1.0</td>\n",
       "      <td>58.760230</td>\n",
       "      <td>NaN</td>\n",
       "      <td>NaN</td>\n",
       "      <td>{CB41DB0A-E4B1-489D-A4EA-738F2CD6DB3B}</td>\n",
       "      <td>NaN</td>\n",
       "      <td>NaN</td>\n",
       "      <td>2020.0</td>\n",
       "      <td>POLYGON ((-13468077.000 4642260.000, -13467975...</td>\n",
       "    </tr>\n",
       "    <tr>\n",
       "      <th>4</th>\n",
       "      <td>5</td>\n",
       "      <td>2023.0</td>\n",
       "      <td>CA</td>\n",
       "      <td>CDF</td>\n",
       "      <td>AEU</td>\n",
       "      <td>LIBERTY</td>\n",
       "      <td>00018876</td>\n",
       "      <td>Tue, 11 Jul 2023 00:00:00 GMT</td>\n",
       "      <td>Wed, 12 Jul 2023 00:00:00 GMT</td>\n",
       "      <td>14.0</td>\n",
       "      <td>1.0</td>\n",
       "      <td>1.0</td>\n",
       "      <td>70.979000</td>\n",
       "      <td>NaN</td>\n",
       "      <td>NaN</td>\n",
       "      <td>{F83F70A4-07A7-40B8-BD51-10CCC1C30D63}</td>\n",
       "      <td>NaN</td>\n",
       "      <td>NaN</td>\n",
       "      <td>2020.0</td>\n",
       "      <td>POLYGON ((-13468418.000 4614853.000, -13468428...</td>\n",
       "    </tr>\n",
       "  </tbody>\n",
       "</table>\n",
       "</div>"
      ],
      "text/plain": [
       "   OBJECTID   YEAR_ STATE AGENCY UNIT_ID  FIRE_NAME   INC_NUM  \\\n",
       "0         1  2023.0    CA    CDF     SKU  WHITWORTH  00004808   \n",
       "1         2  2023.0    CA    LRA     BTU     KAISER  00010225   \n",
       "2         3  2023.0    CA    CDF     AEU    JACKSON  00017640   \n",
       "3         4  2023.0    CA    CDF     AEU     CARBON  00018821   \n",
       "4         5  2023.0    CA    CDF     AEU    LIBERTY  00018876   \n",
       "\n",
       "                      ALARM_DATE                      CONT_DATE  CAUSE  \\\n",
       "0  Sat, 17 Jun 2023 00:00:00 GMT  Sat, 17 Jun 2023 00:00:00 GMT    5.0   \n",
       "1  Fri, 02 Jun 2023 00:00:00 GMT  Fri, 02 Jun 2023 00:00:00 GMT    5.0   \n",
       "2  Sat, 01 Jul 2023 00:00:00 GMT  Sun, 02 Jul 2023 00:00:00 GMT    2.0   \n",
       "3  Tue, 11 Jul 2023 00:00:00 GMT  Tue, 11 Jul 2023 00:00:00 GMT    9.0   \n",
       "4  Tue, 11 Jul 2023 00:00:00 GMT  Wed, 12 Jul 2023 00:00:00 GMT   14.0   \n",
       "\n",
       "   C_METHOD  OBJECTIVE  GIS_ACRES COMMENTS COMPLEX_NAME  \\\n",
       "0       1.0        1.0   5.729125      NaN          NaN   \n",
       "1       1.0        1.0  13.602380      NaN          NaN   \n",
       "2       1.0        1.0  27.814460      NaN          NaN   \n",
       "3       1.0        1.0  58.760230      NaN          NaN   \n",
       "4       1.0        1.0  70.979000      NaN          NaN   \n",
       "\n",
       "                                  IRWINID FIRE_NUM COMPLEX_ID  DECADES  \\\n",
       "0  {7985848C-0AC2-4BA4-8F0E-29F778652E61}      NaN        NaN   2020.0   \n",
       "1  {43EBCC88-B3AC-48EB-8EF5-417FE0939CCF}      NaN        NaN   2020.0   \n",
       "2  {B64E1355-BF1D-441A-95D0-BC1FBB93483B}      NaN        NaN   2020.0   \n",
       "3  {CB41DB0A-E4B1-489D-A4EA-738F2CD6DB3B}      NaN        NaN   2020.0   \n",
       "4  {F83F70A4-07A7-40B8-BD51-10CCC1C30D63}      NaN        NaN   2020.0   \n",
       "\n",
       "                                            geometry  \n",
       "0  POLYGON ((-13682443.000 5091132.739, -13682445...  \n",
       "1  POLYGON ((-13576727.142 4841226.161, -13576726...  \n",
       "2  POLYGON ((-13459243.000 4621236.000, -13458968...  \n",
       "3  POLYGON ((-13468077.000 4642260.000, -13467975...  \n",
       "4  POLYGON ((-13468418.000 4614853.000, -13468428...  "
      ]
     },
     "execution_count": 4,
     "metadata": {},
     "output_type": "execute_result"
    }
   ],
   "source": [
    "# Looking at the first 5 rows of the gpdDataframe\n",
    "fire_perimeters.head()"
   ]
  },
  {
   "cell_type": "code",
   "execution_count": 5,
   "id": "462fcbf2-0b69-4b35-b43a-3d430f419158",
   "metadata": {
    "tags": []
   },
   "outputs": [
    {
     "name": "stdout",
     "output_type": "stream",
     "text": [
      "fire_perimeters CRS:  epsg:3857\n"
     ]
    },
    {
     "data": {
      "text/plain": [
       "<Projected CRS: EPSG:3857>\n",
       "Name: WGS 84 / Pseudo-Mercator\n",
       "Axis Info [cartesian]:\n",
       "- X[east]: Easting (metre)\n",
       "- Y[north]: Northing (metre)\n",
       "Area of Use:\n",
       "- name: World between 85.06°S and 85.06°N.\n",
       "- bounds: (-180.0, -85.06, 180.0, 85.06)\n",
       "Coordinate Operation:\n",
       "- name: Popular Visualisation Pseudo-Mercator\n",
       "- method: Popular Visualisation Pseudo Mercator\n",
       "Datum: World Geodetic System 1984 ensemble\n",
       "- Ellipsoid: WGS 84\n",
       "- Prime Meridian: Greenwich"
      ]
     },
     "execution_count": 5,
     "metadata": {},
     "output_type": "execute_result"
    }
   ],
   "source": [
    "# Check the coordinate reference system\n",
    "print('fire_perimeters CRS: ', fire_perimeters.crs)\n",
    "\n",
    "# Check whether it is projected or geographic\n",
    "fire_perimeters.crs"
   ]
  },
  {
   "cell_type": "markdown",
   "id": "2be70fe5-ec9e-4f6f-be02-341a16826418",
   "metadata": {},
   "source": [
    "**Answer to Question 2.)**\n",
    "\n",
    "- The fire_perimeters data I downloaded from the CalFire website has 22261 observations of 20 columns, which show the perimeters of various historic fires across California, as well as information like the date of the fire, the location, sampling method, etc. \n",
    "\n",
    "- The coordinate reference system for this data is Projected: EPSG:3857. "
   ]
  },
  {
   "cell_type": "code",
   "execution_count": 6,
   "id": "58e8cd93-29ed-4af9-b80a-dfa07b9d2668",
   "metadata": {
    "tags": []
   },
   "outputs": [
    {
     "data": {
      "text/html": [
       "<div>\n",
       "<style scoped>\n",
       "    .dataframe tbody tr th:only-of-type {\n",
       "        vertical-align: middle;\n",
       "    }\n",
       "\n",
       "    .dataframe tbody tr th {\n",
       "        vertical-align: top;\n",
       "    }\n",
       "\n",
       "    .dataframe thead th {\n",
       "        text-align: right;\n",
       "    }\n",
       "</style>\n",
       "<table border=\"1\" class=\"dataframe\">\n",
       "  <thead>\n",
       "    <tr style=\"text-align: right;\">\n",
       "      <th></th>\n",
       "      <th>OBJECTID</th>\n",
       "      <th>YEAR_</th>\n",
       "      <th>STATE</th>\n",
       "      <th>AGENCY</th>\n",
       "      <th>UNIT_ID</th>\n",
       "      <th>FIRE_NAME</th>\n",
       "      <th>INC_NUM</th>\n",
       "      <th>ALARM_DATE</th>\n",
       "      <th>CONT_DATE</th>\n",
       "      <th>CAUSE</th>\n",
       "      <th>C_METHOD</th>\n",
       "      <th>OBJECTIVE</th>\n",
       "      <th>GIS_ACRES</th>\n",
       "      <th>COMMENTS</th>\n",
       "      <th>COMPLEX_NAME</th>\n",
       "      <th>IRWINID</th>\n",
       "      <th>FIRE_NUM</th>\n",
       "      <th>COMPLEX_ID</th>\n",
       "      <th>DECADES</th>\n",
       "      <th>geometry</th>\n",
       "    </tr>\n",
       "  </thead>\n",
       "  <tbody>\n",
       "    <tr>\n",
       "      <th>2654</th>\n",
       "      <td>2655</td>\n",
       "      <td>2017.0</td>\n",
       "      <td>CA</td>\n",
       "      <td>USF</td>\n",
       "      <td>VNC</td>\n",
       "      <td>THOMAS</td>\n",
       "      <td>00003583</td>\n",
       "      <td>Mon, 04 Dec 2017 00:00:00 GMT</td>\n",
       "      <td>Fri, 12 Jan 2018 00:00:00 GMT</td>\n",
       "      <td>9.0</td>\n",
       "      <td>7.0</td>\n",
       "      <td>1.0</td>\n",
       "      <td>281790.9</td>\n",
       "      <td>CONT_DATE based on Inciweb</td>\n",
       "      <td>NaN</td>\n",
       "      <td></td>\n",
       "      <td>NaN</td>\n",
       "      <td>NaN</td>\n",
       "      <td>2010.0</td>\n",
       "      <td>MULTIPOLYGON (((-13316089.016 4088553.040, -13...</td>\n",
       "    </tr>\n",
       "  </tbody>\n",
       "</table>\n",
       "</div>"
      ],
      "text/plain": [
       "      OBJECTID   YEAR_ STATE AGENCY UNIT_ID FIRE_NAME   INC_NUM  \\\n",
       "2654      2655  2017.0    CA    USF     VNC    THOMAS  00003583   \n",
       "\n",
       "                         ALARM_DATE                      CONT_DATE  CAUSE  \\\n",
       "2654  Mon, 04 Dec 2017 00:00:00 GMT  Fri, 12 Jan 2018 00:00:00 GMT    9.0   \n",
       "\n",
       "      C_METHOD  OBJECTIVE  GIS_ACRES                    COMMENTS COMPLEX_NAME  \\\n",
       "2654       7.0        1.0   281790.9  CONT_DATE based on Inciweb          NaN   \n",
       "\n",
       "     IRWINID FIRE_NUM COMPLEX_ID  DECADES  \\\n",
       "2654              NaN        NaN   2010.0   \n",
       "\n",
       "                                               geometry  \n",
       "2654  MULTIPOLYGON (((-13316089.016 4088553.040, -13...  "
      ]
     },
     "execution_count": 6,
     "metadata": {},
     "output_type": "execute_result"
    }
   ],
   "source": [
    "# Selecting the Thomas Fire boundary by filtering the data\n",
    "\n",
    "# Look for the unique values of the FIRE_NAME column\n",
    "Thomas_Fire_Boundary = fire_perimeters[(fire_perimeters['FIRE_NAME']== \"THOMAS\") & (fire_perimeters['YEAR_']== 2017.0)]\n",
    "# Checking to see if the filtering worked\n",
    "Thomas_Fire_Boundary\n"
   ]
  },
  {
   "cell_type": "code",
   "execution_count": 7,
   "id": "ec59ec66-fadf-4b14-b9c9-c29e977ea90d",
   "metadata": {
    "tags": []
   },
   "outputs": [
    {
     "name": "stderr",
     "output_type": "stream",
     "text": [
      "/opt/python/3.7.13/lib/python3.7/site-packages/geopandas/plotting.py:51: ShapelyDeprecationWarning: The 'type' attribute is deprecated, and will be removed in the future. You can use the 'geom_type' attribute instead.\n",
      "  if geom is not None and geom.type.startswith(prefix) and not geom.is_empty:\n"
     ]
    },
    {
     "data": {
      "text/plain": [
       "<AxesSubplot:>"
      ]
     },
     "execution_count": 7,
     "metadata": {},
     "output_type": "execute_result"
    },
    {
     "data": {
      "image/png": "[encoded data removed]",
      "text/plain": [
       "<Figure size 640x480 with 1 Axes>"
      ]
     },
     "metadata": {},
     "output_type": "display_data"
    }
   ],
   "source": [
    "# Plot the data to see if the outline of the fire makes sense with the shape of Santa Barbara\n",
    "Thomas_Fire_Boundary.plot()"
   ]
  },
  {
   "cell_type": "code",
   "execution_count": 8,
   "id": "cb97bf12-eb3b-4d9a-873d-6cf3a21f5230",
   "metadata": {
    "tags": []
   },
   "outputs": [
    {
     "name": "stderr",
     "output_type": "stream",
     "text": [
      "/opt/python/3.7.13/lib/python3.7/site-packages/ipykernel_launcher.py:2: UserWarning: Column names longer than 10 characters will be truncated when saved to ESRI Shapefile.\n",
      "  \n"
     ]
    }
   ],
   "source": [
    "# Saving the Thomas_Fire_Boundary as a file \n",
    "Thomas_Fire_Boundary.to_file('Thomas_Fire_Boundary.shp')"
   ]
  },
  {
   "cell_type": "markdown",
   "id": "e3e6d4b9-a472-4ddc-b15f-679410d90984",
   "metadata": {},
   "source": [
    "**Answer to Question 5.)**\n",
    "\n",
    "- I chose to save the Thomas Fire perimeter (boundary) as a shapefile, as that is the format I am most comfortable with, having worked with it before in class. I then added these to the data folder. In order to do this using gdf.to_file(), I had to change the kernal used form Base to  version 3.7.13 (due to fiona issues), but otherwise it did not affect the data wrangling. I will go back to using Base python kernals for the rest of the assignment (code permitting)"
   ]
  },
  {
   "cell_type": "code",
   "execution_count": null,
   "id": "15a23938-5b29-4c45-bfcf-a9dad6a8fb75",
   "metadata": {},
   "outputs": [],
   "source": []
  }
 ],
 "metadata": {
  "kernelspec": {
   "display_name": "Python 3.7.13",
   "language": "python",
   "name": "py3.7.13"
  },
  "language_info": {
   "codemirror_mode": {
    "name": "ipython",
    "version": 3
   },
   "file_extension": ".py",
   "mimetype": "text/x-python",
   "name": "python",
   "nbconvert_exporter": "python",
   "pygments_lexer": "ipython3",
   "version": "3.7.13"
  }
 },
 "nbformat": 4,
 "nbformat_minor": 5
}
